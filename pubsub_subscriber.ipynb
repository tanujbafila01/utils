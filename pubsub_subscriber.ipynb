{
 "cells": [
  {
   "cell_type": "code",
   "execution_count": 28,
   "metadata": {},
   "outputs": [],
   "source": [
    "from google.cloud import pubsub_v1\n",
    "from google.cloud import bigquery\n",
    "import json"
   ]
  },
  {
   "cell_type": "code",
   "execution_count": 29,
   "metadata": {},
   "outputs": [
    {
     "name": "stdout",
     "output_type": "stream",
     "text": [
      "projects/case-study-airflow/topics/tweepy_topic_dummy\n"
     ]
    }
   ],
   "source": [
    "project_id='case-study-airflow'\n",
    "topic_name = 'projects/{0}/topics/tweepy_topic_dummy'.format(project_id)\n",
    "sub_name = 'tweepy_sub_dummy'\n",
    "dataset = 'ds_dummy'\n",
    "table = 'stock_data'\n",
    "\n",
    "subscriber = pubsub_v1.SubscriberClient()\n",
    "print(topic_name)"
   ]
  },
  {
   "cell_type": "code",
   "execution_count": 30,
   "metadata": {},
   "outputs": [],
   "source": [
    "def to_bq_table(dataset, table, data):\n",
    "    client = bigquery.Client()\n",
    "    dataset_ref = client.dataset(dataset)\n",
    "    table_ref = dataset_ref.table(table)\n",
    "    table = client.get_table(table_ref)\n",
    "    errors = client.insert_rows(table, data)\n",
    "    if not errors:\n",
    "        print('Loaded {} row(s) into {}:{}'.format(len(data), dataset, table))\n",
    "    else:\n",
    "        print(data)\n",
    "        print('Errors:')\n",
    "        for error in errors:\n",
    "            print(error)\n",
    "            \n",
    "def collect(data):\n",
    "    decoded_data = data.decode()\n",
    "    json_data = json.loads(decoded_data)\n",
    "    x = json_data.get('messages').replace('\\n', '').split(',')\n",
    "    data = [{'Date':x[0],\n",
    "       'Open':x[1],\n",
    "       'High':x[2],\n",
    "       'Low':x[3],\n",
    "       'Close':x[4],\n",
    "       'Volume':x[5],\n",
    "       'Adj_close':x[6]}]\n",
    "    #print(to_load)\n",
    "    to_bq_table(dataset, table, data)\n",
    "    return\n",
    "\n",
    "def collect2(data):\n",
    "    decoded_data = data.decode()\n",
    "    print(\"Decoded data:\")\n",
    "    print(decoded_data)\n",
    "    json_data = json.loads(decoded_data)\n",
    "    print('Json data')\n",
    "    print(json_data)\n",
    "    x = json_data.get('messages').split('\\n')\n",
    "    data = []\n",
    "    print(x)\n",
    "    for row in x[1:]:\n",
    "        rd = row.split(',')\n",
    "        data.append({'Date':rd[0],\n",
    "          'Open':rd[1],\n",
    "          'High':rd[2],\n",
    "          'Low':rd[3],\n",
    "          'Close':rd[4],\n",
    "          'Volume':rd[5],\n",
    "          'Adj_close':rd[6]})\n",
    "    #print(to_load)\n",
    "    to_bq_table(dataset, table, data)\n",
    "    return\n",
    "\n",
    "def subscriber_callback(message):\n",
    "    #print(\"this will be processed\")\n",
    "    collect2(message.data)\n",
    "    message.ack()\n",
    "    \n",
    "    \n",
    "sub_path = subscriber.subscription_path(project_id, sub_name)\n",
    "#resp = subscriber.pull(sub_path, max_messages=2)\n",
    "sub = subscriber.subscribe(sub_path, subscriber_callback)"
   ]
  },
  {
   "cell_type": "code",
   "execution_count": 31,
   "metadata": {},
   "outputs": [
    {
     "ename": "AttributeError",
     "evalue": "'StreamingPullFuture' object has no attribute 'close'",
     "output_type": "error",
     "traceback": [
      "\u001b[1;31m---------------------------------------------------------------------------\u001b[0m",
      "\u001b[1;31mTimeoutError\u001b[0m                              Traceback (most recent call last)",
      "\u001b[1;32m<ipython-input-31-959f5515150b>\u001b[0m in \u001b[0;36m<module>\u001b[1;34m()\u001b[0m\n\u001b[0;32m      1\u001b[0m \u001b[1;32mtry\u001b[0m\u001b[1;33m:\u001b[0m\u001b[1;33m\u001b[0m\u001b[0m\n\u001b[1;32m----> 2\u001b[1;33m     \u001b[0msub\u001b[0m\u001b[1;33m.\u001b[0m\u001b[0mresult\u001b[0m\u001b[1;33m(\u001b[0m\u001b[0mtimeout\u001b[0m\u001b[1;33m=\u001b[0m\u001b[1;36m10\u001b[0m\u001b[1;33m)\u001b[0m\u001b[1;33m\u001b[0m\u001b[0m\n\u001b[0m\u001b[0;32m      3\u001b[0m \u001b[1;32mexcept\u001b[0m \u001b[0mException\u001b[0m \u001b[1;32mas\u001b[0m \u001b[0me\u001b[0m\u001b[1;33m:\u001b[0m\u001b[1;33m\u001b[0m\u001b[0m\n",
      "\u001b[1;32m~\\Anaconda3\\envs\\Python35env\\lib\\site-packages\\google\\cloud\\pubsub_v1\\futures.py\u001b[0m in \u001b[0;36mresult\u001b[1;34m(self, timeout)\u001b[0m\n\u001b[0;32m    103\u001b[0m         \u001b[1;31m# return an appropriate value.\u001b[0m\u001b[1;33m\u001b[0m\u001b[1;33m\u001b[0m\u001b[0m\n\u001b[1;32m--> 104\u001b[1;33m         \u001b[0merr\u001b[0m \u001b[1;33m=\u001b[0m \u001b[0mself\u001b[0m\u001b[1;33m.\u001b[0m\u001b[0mexception\u001b[0m\u001b[1;33m(\u001b[0m\u001b[0mtimeout\u001b[0m\u001b[1;33m=\u001b[0m\u001b[0mtimeout\u001b[0m\u001b[1;33m)\u001b[0m\u001b[1;33m\u001b[0m\u001b[0m\n\u001b[0m\u001b[0;32m    105\u001b[0m         \u001b[1;32mif\u001b[0m \u001b[0merr\u001b[0m \u001b[1;32mis\u001b[0m \u001b[1;32mNone\u001b[0m\u001b[1;33m:\u001b[0m\u001b[1;33m\u001b[0m\u001b[0m\n",
      "\u001b[1;32m~\\Anaconda3\\envs\\Python35env\\lib\\site-packages\\google\\cloud\\pubsub_v1\\futures.py\u001b[0m in \u001b[0;36mexception\u001b[1;34m(self, timeout)\u001b[0m\n\u001b[0;32m    123\u001b[0m         \u001b[1;32mif\u001b[0m \u001b[1;32mnot\u001b[0m \u001b[0mself\u001b[0m\u001b[1;33m.\u001b[0m\u001b[0m_completed\u001b[0m\u001b[1;33m.\u001b[0m\u001b[0mwait\u001b[0m\u001b[1;33m(\u001b[0m\u001b[0mtimeout\u001b[0m\u001b[1;33m=\u001b[0m\u001b[0mtimeout\u001b[0m\u001b[1;33m)\u001b[0m\u001b[1;33m:\u001b[0m\u001b[1;33m\u001b[0m\u001b[0m\n\u001b[1;32m--> 124\u001b[1;33m             \u001b[1;32mraise\u001b[0m \u001b[0mexceptions\u001b[0m\u001b[1;33m.\u001b[0m\u001b[0mTimeoutError\u001b[0m\u001b[1;33m(\u001b[0m\u001b[1;34m\"Timed out waiting for result.\"\u001b[0m\u001b[1;33m)\u001b[0m\u001b[1;33m\u001b[0m\u001b[0m\n\u001b[0m\u001b[0;32m    125\u001b[0m \u001b[1;33m\u001b[0m\u001b[0m\n",
      "\u001b[1;31mTimeoutError\u001b[0m: Timed out waiting for result.",
      "\nDuring handling of the above exception, another exception occurred:\n",
      "\u001b[1;31mAttributeError\u001b[0m                            Traceback (most recent call last)",
      "\u001b[1;32m<ipython-input-31-959f5515150b>\u001b[0m in \u001b[0;36m<module>\u001b[1;34m()\u001b[0m\n\u001b[0;32m      4\u001b[0m     \u001b[1;32mraise\u001b[0m\u001b[1;33m\u001b[0m\u001b[0m\n\u001b[0;32m      5\u001b[0m \u001b[1;32mfinally\u001b[0m\u001b[1;33m:\u001b[0m\u001b[1;33m\u001b[0m\u001b[0m\n\u001b[1;32m----> 6\u001b[1;33m     \u001b[0msub\u001b[0m\u001b[1;33m.\u001b[0m\u001b[0mclose\u001b[0m\u001b[1;33m\u001b[0m\u001b[0m\n\u001b[0m",
      "\u001b[1;31mAttributeError\u001b[0m: 'StreamingPullFuture' object has no attribute 'close'"
     ]
    },
    {
     "name": "stdout",
     "output_type": "stream",
     "text": [
      "Decoded data:\n",
      "{\"messages\": \"Date,Open,High,Low,Close,Volume,Adj Close\\n2010-01-04,213.429998,214.499996,212.38000099999996,214.009998,123432400,27.727039\\n2010-01-05,214.599998,215.589994,213.249994,214.379993,150476200,27.774976000000002\\n2010-01-06,214.379993,215.23,210.750004,210.969995,138040000,27.333178000000004\\n2010-01-07,211.75,212.000006,209.050005,210.58,119282800,27.28265\\n2010-01-08,210.299994,212.000006,209.06000500000002,211.98000499999998,111902700,27.464034\\n2010-01-11,212.79999700000002,213.000002,208.450005,210.11000299999998,115557400,27.221758\"}\n",
      "Json data\n",
      "{'messages': 'Date,Open,High,Low,Close,Volume,Adj Close\\n2010-01-04,213.429998,214.499996,212.38000099999996,214.009998,123432400,27.727039\\n2010-01-05,214.599998,215.589994,213.249994,214.379993,150476200,27.774976000000002\\n2010-01-06,214.379993,215.23,210.750004,210.969995,138040000,27.333178000000004\\n2010-01-07,211.75,212.000006,209.050005,210.58,119282800,27.28265\\n2010-01-08,210.299994,212.000006,209.06000500000002,211.98000499999998,111902700,27.464034\\n2010-01-11,212.79999700000002,213.000002,208.450005,210.11000299999998,115557400,27.221758'}\n",
      "['Date,Open,High,Low,Close,Volume,Adj Close', '2010-01-04,213.429998,214.499996,212.38000099999996,214.009998,123432400,27.727039', '2010-01-05,214.599998,215.589994,213.249994,214.379993,150476200,27.774976000000002', '2010-01-06,214.379993,215.23,210.750004,210.969995,138040000,27.333178000000004', '2010-01-07,211.75,212.000006,209.050005,210.58,119282800,27.28265', '2010-01-08,210.299994,212.000006,209.06000500000002,211.98000499999998,111902700,27.464034', '2010-01-11,212.79999700000002,213.000002,208.450005,210.11000299999998,115557400,27.221758']\n",
      "Loaded 6 row(s) into ds_dummy:Table(TableReference(DatasetReference('case-study-airflow', 'ds_dummy'), 'stock_data'))\n",
      "[{'High': 'High', 'Low': 'Low', 'Date': 'Date', 'Adj_close': 'Adj Close2010-01-04', 'Close': 'Close', 'Open': 'Open', 'Volume': 'Volume'}]\n",
      "Errors:\n",
      "{'errors': [{'reason': 'invalid', 'location': 'low', 'debugInfo': '', 'message': 'Cannot convert value to floating point (bad value):Low'}], 'index': 0}\n",
      "Decoded data:\n",
      "{\"messages\": \"Date,Open,High,Low,Close,Volume,Adj Close\\n2010-01-04,213.429998,214.499996,212.38000099999996,214.009998,123432400,27.727039\\n2010-01-05,214.599998,215.589994,213.249994,214.379993,150476200,27.774976000000002\\n2010-01-06,214.379993,215.23,210.750004,210.969995,138040000,27.333178000000004\\n2010-01-07,211.75,212.000006,209.050005,210.58,119282800,27.28265\\n2010-01-08,210.299994,212.000006,209.06000500000002,211.98000499999998,111902700,27.464034\\n2010-01-11,212.79999700000002,213.000002,208.450005,210.11000299999998,115557400,27.221758\"}\n",
      "Json data\n",
      "{'messages': 'Date,Open,High,Low,Close,Volume,Adj Close\\n2010-01-04,213.429998,214.499996,212.38000099999996,214.009998,123432400,27.727039\\n2010-01-05,214.599998,215.589994,213.249994,214.379993,150476200,27.774976000000002\\n2010-01-06,214.379993,215.23,210.750004,210.969995,138040000,27.333178000000004\\n2010-01-07,211.75,212.000006,209.050005,210.58,119282800,27.28265\\n2010-01-08,210.299994,212.000006,209.06000500000002,211.98000499999998,111902700,27.464034\\n2010-01-11,212.79999700000002,213.000002,208.450005,210.11000299999998,115557400,27.221758'}\n",
      "['Date,Open,High,Low,Close,Volume,Adj Close', '2010-01-04,213.429998,214.499996,212.38000099999996,214.009998,123432400,27.727039', '2010-01-05,214.599998,215.589994,213.249994,214.379993,150476200,27.774976000000002', '2010-01-06,214.379993,215.23,210.750004,210.969995,138040000,27.333178000000004', '2010-01-07,211.75,212.000006,209.050005,210.58,119282800,27.28265', '2010-01-08,210.299994,212.000006,209.06000500000002,211.98000499999998,111902700,27.464034', '2010-01-11,212.79999700000002,213.000002,208.450005,210.11000299999998,115557400,27.221758']\n",
      "Loaded 6 row(s) into ds_dummy:Table(TableReference(DatasetReference('case-study-airflow', 'ds_dummy'), 'stock_data'))\n",
      "Decoded data:\n",
      "{\"messages\": \"Date,Open,High,Low,Close,Volume,Adj Close\\n2010-01-04,213.429998,214.499996,212.38000099999996,214.009998,123432400,27.727039\\n2010-01-05,214.599998,215.589994,213.249994,214.379993,150476200,27.774976000000002\\n2010-01-06,214.379993,215.23,210.750004,210.969995,138040000,27.333178000000004\\n2010-01-07,211.75,212.000006,209.050005,210.58,119282800,27.28265\\n2010-01-08,210.299994,212.000006,209.06000500000002,211.98000499999998,111902700,27.464034\\n2010-01-11,212.79999700000002,213.000002,208.450005,210.11000299999998,115557400,27.221758\"}\n",
      "Json data\n",
      "{'messages': 'Date,Open,High,Low,Close,Volume,Adj Close\\n2010-01-04,213.429998,214.499996,212.38000099999996,214.009998,123432400,27.727039\\n2010-01-05,214.599998,215.589994,213.249994,214.379993,150476200,27.774976000000002\\n2010-01-06,214.379993,215.23,210.750004,210.969995,138040000,27.333178000000004\\n2010-01-07,211.75,212.000006,209.050005,210.58,119282800,27.28265\\n2010-01-08,210.299994,212.000006,209.06000500000002,211.98000499999998,111902700,27.464034\\n2010-01-11,212.79999700000002,213.000002,208.450005,210.11000299999998,115557400,27.221758'}\n",
      "['Date,Open,High,Low,Close,Volume,Adj Close', '2010-01-04,213.429998,214.499996,212.38000099999996,214.009998,123432400,27.727039', '2010-01-05,214.599998,215.589994,213.249994,214.379993,150476200,27.774976000000002', '2010-01-06,214.379993,215.23,210.750004,210.969995,138040000,27.333178000000004', '2010-01-07,211.75,212.000006,209.050005,210.58,119282800,27.28265', '2010-01-08,210.299994,212.000006,209.06000500000002,211.98000499999998,111902700,27.464034', '2010-01-11,212.79999700000002,213.000002,208.450005,210.11000299999998,115557400,27.221758']\n",
      "Loaded 6 row(s) into ds_dummy:Table(TableReference(DatasetReference('case-study-airflow', 'ds_dummy'), 'stock_data'))\n",
      "Decoded data:\n",
      "{\"messages\": \"Date,Open,High,Low,Close,Volume,Adj Close\\n2010-01-04,213.429998,214.499996,212.38000099999996,214.009998,123432400,27.727039\\n2010-01-05,214.599998,215.589994,213.249994,214.379993,150476200,27.774976000000002\\n2010-01-06,214.379993,215.23,210.750004,210.969995,138040000,27.333178000000004\\n2010-01-07,211.75,212.000006,209.050005,210.58,119282800,27.28265\\n2010-01-08,210.299994,212.000006,209.06000500000002,211.98000499999998,111902700,27.464034\\n2010-01-11,212.79999700000002,213.000002,208.450005,210.11000299999998,115557400,27.221758\"}\n",
      "Json data\n",
      "{'messages': 'Date,Open,High,Low,Close,Volume,Adj Close\\n2010-01-04,213.429998,214.499996,212.38000099999996,214.009998,123432400,27.727039\\n2010-01-05,214.599998,215.589994,213.249994,214.379993,150476200,27.774976000000002\\n2010-01-06,214.379993,215.23,210.750004,210.969995,138040000,27.333178000000004\\n2010-01-07,211.75,212.000006,209.050005,210.58,119282800,27.28265\\n2010-01-08,210.299994,212.000006,209.06000500000002,211.98000499999998,111902700,27.464034\\n2010-01-11,212.79999700000002,213.000002,208.450005,210.11000299999998,115557400,27.221758'}\n",
      "['Date,Open,High,Low,Close,Volume,Adj Close', '2010-01-04,213.429998,214.499996,212.38000099999996,214.009998,123432400,27.727039', '2010-01-05,214.599998,215.589994,213.249994,214.379993,150476200,27.774976000000002', '2010-01-06,214.379993,215.23,210.750004,210.969995,138040000,27.333178000000004', '2010-01-07,211.75,212.000006,209.050005,210.58,119282800,27.28265', '2010-01-08,210.299994,212.000006,209.06000500000002,211.98000499999998,111902700,27.464034', '2010-01-11,212.79999700000002,213.000002,208.450005,210.11000299999998,115557400,27.221758']\n",
      "Loaded 6 row(s) into ds_dummy:Table(TableReference(DatasetReference('case-study-airflow', 'ds_dummy'), 'stock_data'))\n",
      "Decoded data:\n",
      "{\"messages\": \"Date,Open,High,Low,Close,Volume,Adj Close\\n2010-01-04,213.429998,214.499996,212.38000099999996,214.009998,123432400,27.727039\\n2010-01-05,214.599998,215.589994,213.249994,214.379993,150476200,27.774976000000002\\n2010-01-06,214.379993,215.23,210.750004,210.969995,138040000,27.333178000000004\\n2010-01-07,211.75,212.000006,209.050005,210.58,119282800,27.28265\\n2010-01-08,210.299994,212.000006,209.06000500000002,211.98000499999998,111902700,27.464034\\n2010-01-11,212.79999700000002,213.000002,208.450005,210.11000299999998,115557400,27.221758\"}\n",
      "Json data\n",
      "{'messages': 'Date,Open,High,Low,Close,Volume,Adj Close\\n2010-01-04,213.429998,214.499996,212.38000099999996,214.009998,123432400,27.727039\\n2010-01-05,214.599998,215.589994,213.249994,214.379993,150476200,27.774976000000002\\n2010-01-06,214.379993,215.23,210.750004,210.969995,138040000,27.333178000000004\\n2010-01-07,211.75,212.000006,209.050005,210.58,119282800,27.28265\\n2010-01-08,210.299994,212.000006,209.06000500000002,211.98000499999998,111902700,27.464034\\n2010-01-11,212.79999700000002,213.000002,208.450005,210.11000299999998,115557400,27.221758'}\n",
      "['Date,Open,High,Low,Close,Volume,Adj Close', '2010-01-04,213.429998,214.499996,212.38000099999996,214.009998,123432400,27.727039', '2010-01-05,214.599998,215.589994,213.249994,214.379993,150476200,27.774976000000002', '2010-01-06,214.379993,215.23,210.750004,210.969995,138040000,27.333178000000004', '2010-01-07,211.75,212.000006,209.050005,210.58,119282800,27.28265', '2010-01-08,210.299994,212.000006,209.06000500000002,211.98000499999998,111902700,27.464034', '2010-01-11,212.79999700000002,213.000002,208.450005,210.11000299999998,115557400,27.221758']\n"
     ]
    },
    {
     "name": "stdout",
     "output_type": "stream",
     "text": [
      "Loaded 6 row(s) into ds_dummy:Table(TableReference(DatasetReference('case-study-airflow', 'ds_dummy'), 'stock_data'))\n",
      "Decoded data:\n",
      "{\"messages\": \"Date,Open,High,Low,Close,Volume,Adj Close\\n2010-01-04,213.429998,214.499996,212.38000099999996,214.009998,123432400,27.727039\\n2010-01-05,214.599998,215.589994,213.249994,214.379993,150476200,27.774976000000002\\n2010-01-06,214.379993,215.23,210.750004,210.969995,138040000,27.333178000000004\\n2010-01-07,211.75,212.000006,209.050005,210.58,119282800,27.28265\\n2010-01-08,210.299994,212.000006,209.06000500000002,211.98000499999998,111902700,27.464034\\n2010-01-11,212.79999700000002,213.000002,208.450005,210.11000299999998,115557400,27.221758\"}\n",
      "Json data\n",
      "{'messages': 'Date,Open,High,Low,Close,Volume,Adj Close\\n2010-01-04,213.429998,214.499996,212.38000099999996,214.009998,123432400,27.727039\\n2010-01-05,214.599998,215.589994,213.249994,214.379993,150476200,27.774976000000002\\n2010-01-06,214.379993,215.23,210.750004,210.969995,138040000,27.333178000000004\\n2010-01-07,211.75,212.000006,209.050005,210.58,119282800,27.28265\\n2010-01-08,210.299994,212.000006,209.06000500000002,211.98000499999998,111902700,27.464034\\n2010-01-11,212.79999700000002,213.000002,208.450005,210.11000299999998,115557400,27.221758'}\n",
      "['Date,Open,High,Low,Close,Volume,Adj Close', '2010-01-04,213.429998,214.499996,212.38000099999996,214.009998,123432400,27.727039', '2010-01-05,214.599998,215.589994,213.249994,214.379993,150476200,27.774976000000002', '2010-01-06,214.379993,215.23,210.750004,210.969995,138040000,27.333178000000004', '2010-01-07,211.75,212.000006,209.050005,210.58,119282800,27.28265', '2010-01-08,210.299994,212.000006,209.06000500000002,211.98000499999998,111902700,27.464034', '2010-01-11,212.79999700000002,213.000002,208.450005,210.11000299999998,115557400,27.221758']\n",
      "Loaded 6 row(s) into ds_dummy:Table(TableReference(DatasetReference('case-study-airflow', 'ds_dummy'), 'stock_data'))\n",
      "[{'High': 'High', 'Low': 'Low', 'Date': 'Date', 'Adj_close': 'Adj Close2010-01-04', 'Close': 'Close', 'Open': 'Open', 'Volume': 'Volume'}]\n",
      "Errors:\n",
      "{'errors': [{'reason': 'invalid', 'location': 'low', 'debugInfo': '', 'message': 'Cannot convert value to floating point (bad value):Low'}], 'index': 0}\n",
      "Decoded data:\n",
      "{\"messages\": \"Date,Open,High,Low,Close,Volume,Adj Close\\n2010-01-04,213.429998,214.499996,212.38000099999996,214.009998,123432400,27.727039\\n2010-01-05,214.599998,215.589994,213.249994,214.379993,150476200,27.774976000000002\\n2010-01-06,214.379993,215.23,210.750004,210.969995,138040000,27.333178000000004\\n2010-01-07,211.75,212.000006,209.050005,210.58,119282800,27.28265\\n2010-01-08,210.299994,212.000006,209.06000500000002,211.98000499999998,111902700,27.464034\\n2010-01-11,212.79999700000002,213.000002,208.450005,210.11000299999998,115557400,27.221758\"}\n",
      "Json data\n",
      "{'messages': 'Date,Open,High,Low,Close,Volume,Adj Close\\n2010-01-04,213.429998,214.499996,212.38000099999996,214.009998,123432400,27.727039\\n2010-01-05,214.599998,215.589994,213.249994,214.379993,150476200,27.774976000000002\\n2010-01-06,214.379993,215.23,210.750004,210.969995,138040000,27.333178000000004\\n2010-01-07,211.75,212.000006,209.050005,210.58,119282800,27.28265\\n2010-01-08,210.299994,212.000006,209.06000500000002,211.98000499999998,111902700,27.464034\\n2010-01-11,212.79999700000002,213.000002,208.450005,210.11000299999998,115557400,27.221758'}\n",
      "['Date,Open,High,Low,Close,Volume,Adj Close', '2010-01-04,213.429998,214.499996,212.38000099999996,214.009998,123432400,27.727039', '2010-01-05,214.599998,215.589994,213.249994,214.379993,150476200,27.774976000000002', '2010-01-06,214.379993,215.23,210.750004,210.969995,138040000,27.333178000000004', '2010-01-07,211.75,212.000006,209.050005,210.58,119282800,27.28265', '2010-01-08,210.299994,212.000006,209.06000500000002,211.98000499999998,111902700,27.464034', '2010-01-11,212.79999700000002,213.000002,208.450005,210.11000299999998,115557400,27.221758']\n",
      "Loaded 6 row(s) into ds_dummy:Table(TableReference(DatasetReference('case-study-airflow', 'ds_dummy'), 'stock_data'))\n"
     ]
    }
   ],
   "source": [
    "try:\n",
    "    sub.result(timeout=10)\n",
    "except Exception as e:\n",
    "    raise\n",
    "finally:\n",
    "    sub.close\n"
   ]
  },
  {
   "cell_type": "code",
   "execution_count": null,
   "metadata": {},
   "outputs": [],
   "source": [
    "a = \"this is data\".encode('utf-8')"
   ]
  },
  {
   "cell_type": "code",
   "execution_count": null,
   "metadata": {},
   "outputs": [],
   "source": [
    "x = ['2010-01-04', '213.429998', '214.499996', '212.38000099999996', '214.009998', '123432400', '27.727039']"
   ]
  },
  {
   "cell_type": "code",
   "execution_count": null,
   "metadata": {},
   "outputs": [],
   "source": []
  },
  {
   "cell_type": "code",
   "execution_count": null,
   "metadata": {},
   "outputs": [],
   "source": [
    "to_bq_table(dataset, table, data)"
   ]
  },
  {
   "cell_type": "code",
   "execution_count": 56,
   "metadata": {},
   "outputs": [],
   "source": [
    "files = ['ION_PROMO_20101225FW.DAT', 'ION_PROMO_20190808.DAT', 'ION_PROMO_20190903.DAT', 'ION_PROMO_20190904.DAT', 'ION_PROMO_20190905.DAT', 'ION_PROMO_20190906.DAT', 'ION_PROMO_20190907.DAT', 'ION_PROMO_20190908.DAT', 'ION_PROMO_20190909.DAT', 'ION_PROMO_20190910.DAT', 'ION_PROMO_20190911.DAT', 'ION_PROMO_20190912.DAT']"
   ]
  },
  {
   "cell_type": "code",
   "execution_count": 63,
   "metadata": {},
   "outputs": [],
   "source": [
    "def validate_file_name(file, feed):\n",
    "    if feed=='ION_PROMO':\n",
    "        date = file.replace('.gz','').replace('.DAT','').split('_')[-1]\n",
    "        return 'HF' not in file and 'FW' not in file and len(date)==8 and ''.join(date[-2:])!='00'\n",
    "    elif feed in ['PRICE', 'DAILY_SCAN']:\n",
    "        date = file.replace('.gz', '').replace('.DAT', '').split('_')[-2]\n",
    "        return 'HF' not in file and 'FW' not in file and len(date) == 8 and ''.join(date[-2:]) != '00'"
   ]
  },
  {
   "cell_type": "code",
   "execution_count": 64,
   "metadata": {},
   "outputs": [
    {
     "data": {
      "text/plain": [
       "False"
      ]
     },
     "execution_count": 64,
     "metadata": {},
     "output_type": "execute_result"
    }
   ],
   "source": [
    "validate_file_name('ION_PROMO_20101225FW.DAT', 'ION_PROMO')"
   ]
  },
  {
   "cell_type": "code",
   "execution_count": 65,
   "metadata": {},
   "outputs": [
    {
     "name": "stdout",
     "output_type": "stream",
     "text": [
      "[None, None]\n"
     ]
    }
   ],
   "source": [
    "print([file for file in map(validate_file_name, files, 'ION_PROMO')])"
   ]
  },
  {
   "cell_type": "code",
   "execution_count": 66,
   "metadata": {},
   "outputs": [],
   "source": [
    "files = [('ION_PROMO_20101225FW.DAT', 'ION_PROMO'), ('ION_PROMO_20190808.DAT','ION_PROMO')]"
   ]
  },
  {
   "cell_type": "code",
   "execution_count": 62,
   "metadata": {},
   "outputs": [
    {
     "ename": "TypeError",
     "evalue": "validate_file_name() missing 1 required positional argument: 'feed'",
     "output_type": "error",
     "traceback": [
      "\u001b[1;31m---------------------------------------------------------------------------\u001b[0m",
      "\u001b[1;31mTypeError\u001b[0m                                 Traceback (most recent call last)",
      "\u001b[1;32m<ipython-input-62-bd18044316cc>\u001b[0m in \u001b[0;36m<module>\u001b[1;34m()\u001b[0m\n\u001b[1;32m----> 1\u001b[1;33m \u001b[0mprint\u001b[0m\u001b[1;33m(\u001b[0m\u001b[1;33m[\u001b[0m\u001b[0mx\u001b[0m \u001b[1;32mfor\u001b[0m \u001b[0mx\u001b[0m \u001b[1;32min\u001b[0m \u001b[0mfilter\u001b[0m\u001b[1;33m(\u001b[0m\u001b[0mvalidate_file_name\u001b[0m\u001b[1;33m,\u001b[0m \u001b[0mfiles\u001b[0m\u001b[1;33m)\u001b[0m\u001b[1;33m]\u001b[0m\u001b[1;33m)\u001b[0m\u001b[1;33m\u001b[0m\u001b[0m\n\u001b[0m",
      "\u001b[1;32m<ipython-input-62-bd18044316cc>\u001b[0m in \u001b[0;36m<listcomp>\u001b[1;34m(.0)\u001b[0m\n\u001b[1;32m----> 1\u001b[1;33m \u001b[0mprint\u001b[0m\u001b[1;33m(\u001b[0m\u001b[1;33m[\u001b[0m\u001b[0mx\u001b[0m \u001b[1;32mfor\u001b[0m \u001b[0mx\u001b[0m \u001b[1;32min\u001b[0m \u001b[0mfilter\u001b[0m\u001b[1;33m(\u001b[0m\u001b[0mvalidate_file_name\u001b[0m\u001b[1;33m,\u001b[0m \u001b[0mfiles\u001b[0m\u001b[1;33m)\u001b[0m\u001b[1;33m]\u001b[0m\u001b[1;33m)\u001b[0m\u001b[1;33m\u001b[0m\u001b[0m\n\u001b[0m",
      "\u001b[1;31mTypeError\u001b[0m: validate_file_name() missing 1 required positional argument: 'feed'"
     ]
    }
   ],
   "source": [
    "print([x for x in filter(validate_file_name, files)])"
   ]
  },
  {
   "cell_type": "code",
   "execution_count": 67,
   "metadata": {},
   "outputs": [],
   "source": [
    "p = [x for x in filter(lambda x:validate_file_name(x[0], x[1]), files)]"
   ]
  },
  {
   "cell_type": "code",
   "execution_count": 68,
   "metadata": {},
   "outputs": [
    {
     "data": {
      "text/plain": [
       "['ION_PROMO_20190808.DAT']"
      ]
     },
     "execution_count": 68,
     "metadata": {},
     "output_type": "execute_result"
    }
   ],
   "source": [
    "[x[0] for x in p]"
   ]
  },
  {
   "cell_type": "code",
   "execution_count": 57,
   "metadata": {},
   "outputs": [
    {
     "data": {
      "text/plain": [
       "[('ION_PROMO_20101225FW.DAT', 'ION_PROMO'),\n",
       " ('ION_PROMO_20190808.DAT', 'ION_PROMO'),\n",
       " ('ION_PROMO_20190903.DAT', 'ION_PROMO'),\n",
       " ('ION_PROMO_20190904.DAT', 'ION_PROMO'),\n",
       " ('ION_PROMO_20190905.DAT', 'ION_PROMO'),\n",
       " ('ION_PROMO_20190906.DAT', 'ION_PROMO'),\n",
       " ('ION_PROMO_20190907.DAT', 'ION_PROMO'),\n",
       " ('ION_PROMO_20190908.DAT', 'ION_PROMO'),\n",
       " ('ION_PROMO_20190909.DAT', 'ION_PROMO'),\n",
       " ('ION_PROMO_20190910.DAT', 'ION_PROMO'),\n",
       " ('ION_PROMO_20190911.DAT', 'ION_PROMO'),\n",
       " ('ION_PROMO_20190912.DAT', 'ION_PROMO')]"
      ]
     },
     "execution_count": 57,
     "metadata": {},
     "output_type": "execute_result"
    }
   ],
   "source": [
    "[(file, 'ION_PROMO') for file in files]"
   ]
  },
  {
   "cell_type": "code",
   "execution_count": 1,
   "metadata": {},
   "outputs": [],
   "source": [
    "import pandas as pd"
   ]
  },
  {
   "cell_type": "code",
   "execution_count": 4,
   "metadata": {},
   "outputs": [],
   "source": [
    "by_store = pd.read_excel('./2019 APAC Store weekly sales review_week 38 New Version.xlsx', dtype=str, sheetname='By store')\n",
    "by_country = pd.read_excel('./2019 APAC Store weekly sales review_week 38 New Version.xlsx', dtype=str, sheetname='By Country')\n",
    "by_store_cate = pd.read_excel('./2019 APAC Store weekly sales review_week 38 New Version.xlsx', dtype=str, sheetname='By Store Cate')\n",
    "by_rf = pd.read_excel('./2019 APAC Store weekly sales review_week 38 New Version.xlsx', dtype=str, sheetname='RF1')"
   ]
  },
  {
   "cell_type": "code",
   "execution_count": 7,
   "metadata": {},
   "outputs": [],
   "source": [
    "by_store.to_csv('./by_store.csv', index=False)\n",
    "by_country.to_csv('./by_country.csv', index=False)\n",
    "by_store_cate.to_csv('./by_store_cate.csv', index=False)\n",
    "by_rf.to_csv('./by_rf.csv', index=False)"
   ]
  },
  {
   "cell_type": "code",
   "execution_count": 24,
   "metadata": {},
   "outputs": [],
   "source": [
    "by_rf = pd.read_excel('./2019 APAC Store weekly sales review_week 38 New Version.xlsx', dtype=str, sheetname='RF1')"
   ]
  },
  {
   "cell_type": "code",
   "execution_count": 26,
   "metadata": {},
   "outputs": [],
   "source": [
    "by_rf['Unnamed: 16'] = by_rf['Unnamed: 16'].str.replace('nan', '')"
   ]
  },
  {
   "cell_type": "code",
   "execution_count": 27,
   "metadata": {},
   "outputs": [],
   "source": [
    "by_rf.to_csv('./by_rf.csv', index=False)"
   ]
  },
  {
   "cell_type": "code",
   "execution_count": 28,
   "metadata": {
    "scrolled": true
   },
   "outputs": [
    {
     "data": {
      "text/html": [
       "<div>\n",
       "<style>\n",
       "    .dataframe thead tr:only-child th {\n",
       "        text-align: right;\n",
       "    }\n",
       "\n",
       "    .dataframe thead th {\n",
       "        text-align: left;\n",
       "    }\n",
       "\n",
       "    .dataframe tbody tr th {\n",
       "        vertical-align: top;\n",
       "    }\n",
       "</style>\n",
       "<table border=\"1\" class=\"dataframe\">\n",
       "  <thead>\n",
       "    <tr style=\"text-align: right;\">\n",
       "      <th></th>\n",
       "      <th>Concept</th>\n",
       "      <th>WTD</th>\n",
       "      <th>MTD</th>\n",
       "      <th>QTD</th>\n",
       "      <th>Country of plant</th>\n",
       "      <th>Store Type</th>\n",
       "      <th>Retail location</th>\n",
       "      <th>Fiscal Week</th>\n",
       "      <th>PLAN SLS XVAT</th>\n",
       "      <th>YTD</th>\n",
       "      <th>...</th>\n",
       "      <th>Retail location.1</th>\n",
       "      <th>Store Category</th>\n",
       "      <th>Unnamed: 15</th>\n",
       "      <th>Unnamed: 16</th>\n",
       "      <th>201938</th>\n",
       "      <th>Unnamed: 18</th>\n",
       "      <th>Unnamed: 19</th>\n",
       "      <th>Unnamed: 20</th>\n",
       "      <th>Unnamed: 21</th>\n",
       "      <th>Unnamed: 22</th>\n",
       "    </tr>\n",
       "  </thead>\n",
       "  <tbody>\n",
       "    <tr>\n",
       "      <th>1020</th>\n",
       "      <td>CCV</td>\n",
       "      <td>nan</td>\n",
       "      <td>nan</td>\n",
       "      <td>nan</td>\n",
       "      <td>KR</td>\n",
       "      <td>CCV</td>\n",
       "      <td>A227</td>\n",
       "      <td>201907</td>\n",
       "      <td>3305.49</td>\n",
       "      <td>YTD</td>\n",
       "      <td>...</td>\n",
       "      <td>nan</td>\n",
       "      <td>nan</td>\n",
       "      <td>nan</td>\n",
       "      <td></td>\n",
       "      <td>nan</td>\n",
       "      <td>nan</td>\n",
       "      <td>nan</td>\n",
       "      <td>nan</td>\n",
       "      <td>nan</td>\n",
       "      <td>nan</td>\n",
       "    </tr>\n",
       "    <tr>\n",
       "      <th>1021</th>\n",
       "      <td>CCV</td>\n",
       "      <td>nan</td>\n",
       "      <td>nan</td>\n",
       "      <td>nan</td>\n",
       "      <td>KR</td>\n",
       "      <td>CCV</td>\n",
       "      <td>A227</td>\n",
       "      <td>201908</td>\n",
       "      <td>2974.95</td>\n",
       "      <td>YTD</td>\n",
       "      <td>...</td>\n",
       "      <td>nan</td>\n",
       "      <td>nan</td>\n",
       "      <td>Watch Station Outlet</td>\n",
       "      <td>Watch Station Outlet</td>\n",
       "      <td>nan</td>\n",
       "      <td>nan</td>\n",
       "      <td>nan</td>\n",
       "      <td>nan</td>\n",
       "      <td>nan</td>\n",
       "      <td>nan</td>\n",
       "    </tr>\n",
       "    <tr>\n",
       "      <th>1022</th>\n",
       "      <td>CCV</td>\n",
       "      <td>nan</td>\n",
       "      <td>nan</td>\n",
       "      <td>nan</td>\n",
       "      <td>KR</td>\n",
       "      <td>CCV</td>\n",
       "      <td>A227</td>\n",
       "      <td>201909</td>\n",
       "      <td>3507.04</td>\n",
       "      <td>YTD</td>\n",
       "      <td>...</td>\n",
       "      <td>nan</td>\n",
       "      <td>nan</td>\n",
       "      <td>Fossil Outlet</td>\n",
       "      <td>Fossil Outlet</td>\n",
       "      <td>nan</td>\n",
       "      <td>nan</td>\n",
       "      <td>nan</td>\n",
       "      <td>nan</td>\n",
       "      <td>nan</td>\n",
       "      <td>nan</td>\n",
       "    </tr>\n",
       "    <tr>\n",
       "      <th>1023</th>\n",
       "      <td>CCV</td>\n",
       "      <td>nan</td>\n",
       "      <td>nan</td>\n",
       "      <td>nan</td>\n",
       "      <td>KR</td>\n",
       "      <td>CCV</td>\n",
       "      <td>A227</td>\n",
       "      <td>201910</td>\n",
       "      <td>3427.34</td>\n",
       "      <td>YTD</td>\n",
       "      <td>...</td>\n",
       "      <td>nan</td>\n",
       "      <td>nan</td>\n",
       "      <td>Watch Station Outlet</td>\n",
       "      <td>Watch Station Outlet</td>\n",
       "      <td>nan</td>\n",
       "      <td>nan</td>\n",
       "      <td>nan</td>\n",
       "      <td>nan</td>\n",
       "      <td>nan</td>\n",
       "      <td>nan</td>\n",
       "    </tr>\n",
       "  </tbody>\n",
       "</table>\n",
       "<p>4 rows × 23 columns</p>\n",
       "</div>"
      ],
      "text/plain": [
       "     Concept  WTD  MTD  QTD Country of plant Store Type Retail location  \\\n",
       "1020     CCV  nan  nan  nan               KR        CCV            A227   \n",
       "1021     CCV  nan  nan  nan               KR        CCV            A227   \n",
       "1022     CCV  nan  nan  nan               KR        CCV            A227   \n",
       "1023     CCV  nan  nan  nan               KR        CCV            A227   \n",
       "\n",
       "     Fiscal Week PLAN SLS XVAT  YTD     ...     Retail location.1  \\\n",
       "1020      201907       3305.49  YTD     ...                   nan   \n",
       "1021      201908       2974.95  YTD     ...                   nan   \n",
       "1022      201909       3507.04  YTD     ...                   nan   \n",
       "1023      201910       3427.34  YTD     ...                   nan   \n",
       "\n",
       "     Store Category           Unnamed: 15           Unnamed: 16 201938  \\\n",
       "1020            nan                   nan                          nan   \n",
       "1021            nan  Watch Station Outlet  Watch Station Outlet    nan   \n",
       "1022            nan         Fossil Outlet         Fossil Outlet    nan   \n",
       "1023            nan  Watch Station Outlet  Watch Station Outlet    nan   \n",
       "\n",
       "     Unnamed: 18 Unnamed: 19 Unnamed: 20 Unnamed: 21 Unnamed: 22  \n",
       "1020         nan         nan         nan         nan         nan  \n",
       "1021         nan         nan         nan         nan         nan  \n",
       "1022         nan         nan         nan         nan         nan  \n",
       "1023         nan         nan         nan         nan         nan  \n",
       "\n",
       "[4 rows x 23 columns]"
      ]
     },
     "execution_count": 28,
     "metadata": {},
     "output_type": "execute_result"
    }
   ],
   "source": [
    "by_rf.iloc[1020:1024, :]"
   ]
  },
  {
   "cell_type": "code",
   "execution_count": 32,
   "metadata": {},
   "outputs": [
    {
     "data": {
      "text/plain": [
       "Index(['Concept', 'WTD', 'MTD', 'QTD', 'Country of plant', 'Store Type',\n",
       "       'Retail location', 'Fiscal Week', 'PLAN SLS XVAT', 'YTD', 'Unnamed: 10',\n",
       "       'Unnamed: 11', 'Store Type.1', 'Retail location.1', 'Store Category',\n",
       "       'Unnamed: 15', 'Unnamed: 16', '201938', 'Unnamed: 18', 'Unnamed: 19',\n",
       "       'Unnamed: 20', 'Unnamed: 21', 'Unnamed: 22'],\n",
       "      dtype='object')"
      ]
     },
     "execution_count": 32,
     "metadata": {},
     "output_type": "execute_result"
    }
   ],
   "source": [
    "by_rf.columns"
   ]
  },
  {
   "cell_type": "code",
   "execution_count": 35,
   "metadata": {},
   "outputs": [],
   "source": [
    "by_rf = by_rf[['Concept', 'WTD', 'MTD', 'QTD', 'Country of plant', 'Store Type',\n",
    "       'Retail location','PLAN SLS XVAT', 'YTD', 'Unnamed: 10',\n",
    "       'Unnamed: 11', 'Store Type.1', 'Retail location.1', 'Store Category']]"
   ]
  },
  {
   "cell_type": "code",
   "execution_count": 36,
   "metadata": {},
   "outputs": [],
   "source": [
    "by_rf.to_csv('./by_rf.csv', index=False)"
   ]
  },
  {
   "cell_type": "code",
   "execution_count": null,
   "metadata": {},
   "outputs": [],
   "source": []
  }
 ],
 "metadata": {
  "kernelspec": {
   "display_name": "Python [default]",
   "language": "python",
   "name": "python3"
  },
  "language_info": {
   "codemirror_mode": {
    "name": "ipython",
    "version": 3
   },
   "file_extension": ".py",
   "mimetype": "text/x-python",
   "name": "python",
   "nbconvert_exporter": "python",
   "pygments_lexer": "ipython3",
   "version": "3.5.4"
  }
 },
 "nbformat": 4,
 "nbformat_minor": 2
}
