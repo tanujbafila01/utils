{
 "cells": [
  {
   "cell_type": "code",
   "execution_count": 28,
   "metadata": {},
   "outputs": [],
   "source": [
    "from google.cloud import pubsub_v1\n",
    "from google.cloud import bigquery\n",
    "import json"
   ]
  },
  {
   "cell_type": "code",
   "execution_count": 29,
   "metadata": {},
   "outputs": [
    {
     "name": "stdout",
     "output_type": "stream",
     "text": [
      "projects/case-study-airflow/topics/tweepy_topic_dummy\n"
     ]
    }
   ],
   "source": [
    "project_id='case-study-airflow'\n",
    "topic_name = 'projects/{0}/topics/tweepy_topic_dummy'.format(project_id)\n",
    "sub_name = 'tweepy_sub_dummy'\n",
    "dataset = 'ds_dummy'\n",
    "table = 'stock_data'\n",
    "\n",
    "subscriber = pubsub_v1.SubscriberClient()\n",
    "print(topic_name)"
   ]
  },
  {
   "cell_type": "code",
   "execution_count": 30,
   "metadata": {},
   "outputs": [],
   "source": [
    "def to_bq_table(dataset, table, data):\n",
    "    client = bigquery.Client()\n",
    "    dataset_ref = client.dataset(dataset)\n",
    "    table_ref = dataset_ref.table(table)\n",
    "    table = client.get_table(table_ref)\n",
    "    errors = client.insert_rows(table, data)\n",
    "    if not errors:\n",
    "        print('Loaded {} row(s) into {}:{}'.format(len(data), dataset, table))\n",
    "    else:\n",
    "        print(data)\n",
    "        print('Errors:')\n",
    "        for error in errors:\n",
    "            print(error)\n",
    "            \n",
    "def collect(data):\n",
    "    decoded_data = data.decode()\n",
    "    json_data = json.loads(decoded_data)\n",
    "    x = json_data.get('messages').replace('\\n', '').split(',')\n",
    "    data = [{'Date':x[0],\n",
    "       'Open':x[1],\n",
    "       'High':x[2],\n",
    "       'Low':x[3],\n",
    "       'Close':x[4],\n",
    "       'Volume':x[5],\n",
    "       'Adj_close':x[6]}]\n",
    "    #print(to_load)\n",
    "    to_bq_table(dataset, table, data)\n",
    "    return\n",
    "\n",
    "def collect2(data):\n",
    "    decoded_data = data.decode()\n",
    "    print(\"Decoded data:\")\n",
    "    print(decoded_data)\n",
    "    json_data = json.loads(decoded_data)\n",
    "    print('Json data')\n",
    "    print(json_data)\n",
    "    x = json_data.get('messages').split('\\n')\n",
    "    data = []\n",
    "    print(x)\n",
    "    for row in x[1:]:\n",
    "        rd = row.split(',')\n",
    "        data.append({'Date':rd[0],\n",
    "          'Open':rd[1],\n",
    "          'High':rd[2],\n",
    "          'Low':rd[3],\n",
    "          'Close':rd[4],\n",
    "          'Volume':rd[5],\n",
    "          'Adj_close':rd[6]})\n",
    "    #print(to_load)\n",
    "    to_bq_table(dataset, table, data)\n",
    "    return\n",
    "\n",
    "def subscriber_callback(message):\n",
    "    #print(\"this will be processed\")\n",
    "    collect2(message.data)\n",
    "    message.ack()\n",
    "    \n",
    "    \n",
    "sub_path = subscriber.subscription_path(project_id, sub_name)\n",
    "#resp = subscriber.pull(sub_path, max_messages=2)\n",
    "sub = subscriber.subscribe(sub_path, subscriber_callback)"
   ]
  },
  {
   "cell_type": "code",
   "execution_count": 31,
   "metadata": {},
   "outputs": [
    {
     "ename": "AttributeError",
     "evalue": "'StreamingPullFuture' object has no attribute 'close'",
     "output_type": "error",
     "traceback": [
      "\u001b[1;31m---------------------------------------------------------------------------\u001b[0m",
      "\u001b[1;31mTimeoutError\u001b[0m                              Traceback (most recent call last)",
      "\u001b[1;32m<ipython-input-31-959f5515150b>\u001b[0m in \u001b[0;36m<module>\u001b[1;34m()\u001b[0m\n\u001b[0;32m      1\u001b[0m \u001b[1;32mtry\u001b[0m\u001b[1;33m:\u001b[0m\u001b[1;33m\u001b[0m\u001b[0m\n\u001b[1;32m----> 2\u001b[1;33m     \u001b[0msub\u001b[0m\u001b[1;33m.\u001b[0m\u001b[0mresult\u001b[0m\u001b[1;33m(\u001b[0m\u001b[0mtimeout\u001b[0m\u001b[1;33m=\u001b[0m\u001b[1;36m10\u001b[0m\u001b[1;33m)\u001b[0m\u001b[1;33m\u001b[0m\u001b[0m\n\u001b[0m\u001b[0;32m      3\u001b[0m \u001b[1;32mexcept\u001b[0m \u001b[0mException\u001b[0m \u001b[1;32mas\u001b[0m \u001b[0me\u001b[0m\u001b[1;33m:\u001b[0m\u001b[1;33m\u001b[0m\u001b[0m\n",
      "\u001b[1;32m~\\Anaconda3\\envs\\Python35env\\lib\\site-packages\\google\\cloud\\pubsub_v1\\futures.py\u001b[0m in \u001b[0;36mresult\u001b[1;34m(self, timeout)\u001b[0m\n\u001b[0;32m    103\u001b[0m         \u001b[1;31m# return an appropriate value.\u001b[0m\u001b[1;33m\u001b[0m\u001b[1;33m\u001b[0m\u001b[0m\n\u001b[1;32m--> 104\u001b[1;33m         \u001b[0merr\u001b[0m \u001b[1;33m=\u001b[0m \u001b[0mself\u001b[0m\u001b[1;33m.\u001b[0m\u001b[0mexception\u001b[0m\u001b[1;33m(\u001b[0m\u001b[0mtimeout\u001b[0m\u001b[1;33m=\u001b[0m\u001b[0mtimeout\u001b[0m\u001b[1;33m)\u001b[0m\u001b[1;33m\u001b[0m\u001b[0m\n\u001b[0m\u001b[0;32m    105\u001b[0m         \u001b[1;32mif\u001b[0m \u001b[0merr\u001b[0m \u001b[1;32mis\u001b[0m \u001b[1;32mNone\u001b[0m\u001b[1;33m:\u001b[0m\u001b[1;33m\u001b[0m\u001b[0m\n",
      "\u001b[1;32m~\\Anaconda3\\envs\\Python35env\\lib\\site-packages\\google\\cloud\\pubsub_v1\\futures.py\u001b[0m in \u001b[0;36mexception\u001b[1;34m(self, timeout)\u001b[0m\n\u001b[0;32m    123\u001b[0m         \u001b[1;32mif\u001b[0m \u001b[1;32mnot\u001b[0m \u001b[0mself\u001b[0m\u001b[1;33m.\u001b[0m\u001b[0m_completed\u001b[0m\u001b[1;33m.\u001b[0m\u001b[0mwait\u001b[0m\u001b[1;33m(\u001b[0m\u001b[0mtimeout\u001b[0m\u001b[1;33m=\u001b[0m\u001b[0mtimeout\u001b[0m\u001b[1;33m)\u001b[0m\u001b[1;33m:\u001b[0m\u001b[1;33m\u001b[0m\u001b[0m\n\u001b[1;32m--> 124\u001b[1;33m             \u001b[1;32mraise\u001b[0m \u001b[0mexceptions\u001b[0m\u001b[1;33m.\u001b[0m\u001b[0mTimeoutError\u001b[0m\u001b[1;33m(\u001b[0m\u001b[1;34m\"Timed out waiting for result.\"\u001b[0m\u001b[1;33m)\u001b[0m\u001b[1;33m\u001b[0m\u001b[0m\n\u001b[0m\u001b[0;32m    125\u001b[0m \u001b[1;33m\u001b[0m\u001b[0m\n",
      "\u001b[1;31mTimeoutError\u001b[0m: Timed out waiting for result.",
      "\nDuring handling of the above exception, another exception occurred:\n",
      "\u001b[1;31mAttributeError\u001b[0m                            Traceback (most recent call last)",
      "\u001b[1;32m<ipython-input-31-959f5515150b>\u001b[0m in \u001b[0;36m<module>\u001b[1;34m()\u001b[0m\n\u001b[0;32m      4\u001b[0m     \u001b[1;32mraise\u001b[0m\u001b[1;33m\u001b[0m\u001b[0m\n\u001b[0;32m      5\u001b[0m \u001b[1;32mfinally\u001b[0m\u001b[1;33m:\u001b[0m\u001b[1;33m\u001b[0m\u001b[0m\n\u001b[1;32m----> 6\u001b[1;33m     \u001b[0msub\u001b[0m\u001b[1;33m.\u001b[0m\u001b[0mclose\u001b[0m\u001b[1;33m\u001b[0m\u001b[0m\n\u001b[0m",
      "\u001b[1;31mAttributeError\u001b[0m: 'StreamingPullFuture' object has no attribute 'close'"
     ]
    },
    {
     "name": "stdout",
     "output_type": "stream",
     "text": [
      "Decoded data:\n",
      "{\"messages\": \"Date,Open,High,Low,Close,Volume,Adj Close\\n2010-01-04,213.429998,214.499996,212.38000099999996,214.009998,123432400,27.727039\\n2010-01-05,214.599998,215.589994,213.249994,214.379993,150476200,27.774976000000002\\n2010-01-06,214.379993,215.23,210.750004,210.969995,138040000,27.333178000000004\\n2010-01-07,211.75,212.000006,209.050005,210.58,119282800,27.28265\\n2010-01-08,210.299994,212.000006,209.06000500000002,211.98000499999998,111902700,27.464034\\n2010-01-11,212.79999700000002,213.000002,208.450005,210.11000299999998,115557400,27.221758\"}\n",
      "Json data\n",
      "{'messages': 'Date,Open,High,Low,Close,Volume,Adj Close\\n2010-01-04,213.429998,214.499996,212.38000099999996,214.009998,123432400,27.727039\\n2010-01-05,214.599998,215.589994,213.249994,214.379993,150476200,27.774976000000002\\n2010-01-06,214.379993,215.23,210.750004,210.969995,138040000,27.333178000000004\\n2010-01-07,211.75,212.000006,209.050005,210.58,119282800,27.28265\\n2010-01-08,210.299994,212.000006,209.06000500000002,211.98000499999998,111902700,27.464034\\n2010-01-11,212.79999700000002,213.000002,208.450005,210.11000299999998,115557400,27.221758'}\n",
      "['Date,Open,High,Low,Close,Volume,Adj Close', '2010-01-04,213.429998,214.499996,212.38000099999996,214.009998,123432400,27.727039', '2010-01-05,214.599998,215.589994,213.249994,214.379993,150476200,27.774976000000002', '2010-01-06,214.379993,215.23,210.750004,210.969995,138040000,27.333178000000004', '2010-01-07,211.75,212.000006,209.050005,210.58,119282800,27.28265', '2010-01-08,210.299994,212.000006,209.06000500000002,211.98000499999998,111902700,27.464034', '2010-01-11,212.79999700000002,213.000002,208.450005,210.11000299999998,115557400,27.221758']\n",
      "Loaded 6 row(s) into ds_dummy:Table(TableReference(DatasetReference('case-study-airflow', 'ds_dummy'), 'stock_data'))\n",
      "[{'High': 'High', 'Low': 'Low', 'Date': 'Date', 'Adj_close': 'Adj Close2010-01-04', 'Close': 'Close', 'Open': 'Open', 'Volume': 'Volume'}]\n",
      "Errors:\n",
      "{'errors': [{'reason': 'invalid', 'location': 'low', 'debugInfo': '', 'message': 'Cannot convert value to floating point (bad value):Low'}], 'index': 0}\n",
      "Decoded data:\n",
      "{\"messages\": \"Date,Open,High,Low,Close,Volume,Adj Close\\n2010-01-04,213.429998,214.499996,212.38000099999996,214.009998,123432400,27.727039\\n2010-01-05,214.599998,215.589994,213.249994,214.379993,150476200,27.774976000000002\\n2010-01-06,214.379993,215.23,210.750004,210.969995,138040000,27.333178000000004\\n2010-01-07,211.75,212.000006,209.050005,210.58,119282800,27.28265\\n2010-01-08,210.299994,212.000006,209.06000500000002,211.98000499999998,111902700,27.464034\\n2010-01-11,212.79999700000002,213.000002,208.450005,210.11000299999998,115557400,27.221758\"}\n",
      "Json data\n",
      "{'messages': 'Date,Open,High,Low,Close,Volume,Adj Close\\n2010-01-04,213.429998,214.499996,212.38000099999996,214.009998,123432400,27.727039\\n2010-01-05,214.599998,215.589994,213.249994,214.379993,150476200,27.774976000000002\\n2010-01-06,214.379993,215.23,210.750004,210.969995,138040000,27.333178000000004\\n2010-01-07,211.75,212.000006,209.050005,210.58,119282800,27.28265\\n2010-01-08,210.299994,212.000006,209.06000500000002,211.98000499999998,111902700,27.464034\\n2010-01-11,212.79999700000002,213.000002,208.450005,210.11000299999998,115557400,27.221758'}\n",
      "['Date,Open,High,Low,Close,Volume,Adj Close', '2010-01-04,213.429998,214.499996,212.38000099999996,214.009998,123432400,27.727039', '2010-01-05,214.599998,215.589994,213.249994,214.379993,150476200,27.774976000000002', '2010-01-06,214.379993,215.23,210.750004,210.969995,138040000,27.333178000000004', '2010-01-07,211.75,212.000006,209.050005,210.58,119282800,27.28265', '2010-01-08,210.299994,212.000006,209.06000500000002,211.98000499999998,111902700,27.464034', '2010-01-11,212.79999700000002,213.000002,208.450005,210.11000299999998,115557400,27.221758']\n",
      "Loaded 6 row(s) into ds_dummy:Table(TableReference(DatasetReference('case-study-airflow', 'ds_dummy'), 'stock_data'))\n",
      "Decoded data:\n",
      "{\"messages\": \"Date,Open,High,Low,Close,Volume,Adj Close\\n2010-01-04,213.429998,214.499996,212.38000099999996,214.009998,123432400,27.727039\\n2010-01-05,214.599998,215.589994,213.249994,214.379993,150476200,27.774976000000002\\n2010-01-06,214.379993,215.23,210.750004,210.969995,138040000,27.333178000000004\\n2010-01-07,211.75,212.000006,209.050005,210.58,119282800,27.28265\\n2010-01-08,210.299994,212.000006,209.06000500000002,211.98000499999998,111902700,27.464034\\n2010-01-11,212.79999700000002,213.000002,208.450005,210.11000299999998,115557400,27.221758\"}\n",
      "Json data\n",
      "{'messages': 'Date,Open,High,Low,Close,Volume,Adj Close\\n2010-01-04,213.429998,214.499996,212.38000099999996,214.009998,123432400,27.727039\\n2010-01-05,214.599998,215.589994,213.249994,214.379993,150476200,27.774976000000002\\n2010-01-06,214.379993,215.23,210.750004,210.969995,138040000,27.333178000000004\\n2010-01-07,211.75,212.000006,209.050005,210.58,119282800,27.28265\\n2010-01-08,210.299994,212.000006,209.06000500000002,211.98000499999998,111902700,27.464034\\n2010-01-11,212.79999700000002,213.000002,208.450005,210.11000299999998,115557400,27.221758'}\n",
      "['Date,Open,High,Low,Close,Volume,Adj Close', '2010-01-04,213.429998,214.499996,212.38000099999996,214.009998,123432400,27.727039', '2010-01-05,214.599998,215.589994,213.249994,214.379993,150476200,27.774976000000002', '2010-01-06,214.379993,215.23,210.750004,210.969995,138040000,27.333178000000004', '2010-01-07,211.75,212.000006,209.050005,210.58,119282800,27.28265', '2010-01-08,210.299994,212.000006,209.06000500000002,211.98000499999998,111902700,27.464034', '2010-01-11,212.79999700000002,213.000002,208.450005,210.11000299999998,115557400,27.221758']\n",
      "Loaded 6 row(s) into ds_dummy:Table(TableReference(DatasetReference('case-study-airflow', 'ds_dummy'), 'stock_data'))\n",
      "Decoded data:\n",
      "{\"messages\": \"Date,Open,High,Low,Close,Volume,Adj Close\\n2010-01-04,213.429998,214.499996,212.38000099999996,214.009998,123432400,27.727039\\n2010-01-05,214.599998,215.589994,213.249994,214.379993,150476200,27.774976000000002\\n2010-01-06,214.379993,215.23,210.750004,210.969995,138040000,27.333178000000004\\n2010-01-07,211.75,212.000006,209.050005,210.58,119282800,27.28265\\n2010-01-08,210.299994,212.000006,209.06000500000002,211.98000499999998,111902700,27.464034\\n2010-01-11,212.79999700000002,213.000002,208.450005,210.11000299999998,115557400,27.221758\"}\n",
      "Json data\n",
      "{'messages': 'Date,Open,High,Low,Close,Volume,Adj Close\\n2010-01-04,213.429998,214.499996,212.38000099999996,214.009998,123432400,27.727039\\n2010-01-05,214.599998,215.589994,213.249994,214.379993,150476200,27.774976000000002\\n2010-01-06,214.379993,215.23,210.750004,210.969995,138040000,27.333178000000004\\n2010-01-07,211.75,212.000006,209.050005,210.58,119282800,27.28265\\n2010-01-08,210.299994,212.000006,209.06000500000002,211.98000499999998,111902700,27.464034\\n2010-01-11,212.79999700000002,213.000002,208.450005,210.11000299999998,115557400,27.221758'}\n",
      "['Date,Open,High,Low,Close,Volume,Adj Close', '2010-01-04,213.429998,214.499996,212.38000099999996,214.009998,123432400,27.727039', '2010-01-05,214.599998,215.589994,213.249994,214.379993,150476200,27.774976000000002', '2010-01-06,214.379993,215.23,210.750004,210.969995,138040000,27.333178000000004', '2010-01-07,211.75,212.000006,209.050005,210.58,119282800,27.28265', '2010-01-08,210.299994,212.000006,209.06000500000002,211.98000499999998,111902700,27.464034', '2010-01-11,212.79999700000002,213.000002,208.450005,210.11000299999998,115557400,27.221758']\n",
      "Loaded 6 row(s) into ds_dummy:Table(TableReference(DatasetReference('case-study-airflow', 'ds_dummy'), 'stock_data'))\n",
      "Decoded data:\n",
      "{\"messages\": \"Date,Open,High,Low,Close,Volume,Adj Close\\n2010-01-04,213.429998,214.499996,212.38000099999996,214.009998,123432400,27.727039\\n2010-01-05,214.599998,215.589994,213.249994,214.379993,150476200,27.774976000000002\\n2010-01-06,214.379993,215.23,210.750004,210.969995,138040000,27.333178000000004\\n2010-01-07,211.75,212.000006,209.050005,210.58,119282800,27.28265\\n2010-01-08,210.299994,212.000006,209.06000500000002,211.98000499999998,111902700,27.464034\\n2010-01-11,212.79999700000002,213.000002,208.450005,210.11000299999998,115557400,27.221758\"}\n",
      "Json data\n",
      "{'messages': 'Date,Open,High,Low,Close,Volume,Adj Close\\n2010-01-04,213.429998,214.499996,212.38000099999996,214.009998,123432400,27.727039\\n2010-01-05,214.599998,215.589994,213.249994,214.379993,150476200,27.774976000000002\\n2010-01-06,214.379993,215.23,210.750004,210.969995,138040000,27.333178000000004\\n2010-01-07,211.75,212.000006,209.050005,210.58,119282800,27.28265\\n2010-01-08,210.299994,212.000006,209.06000500000002,211.98000499999998,111902700,27.464034\\n2010-01-11,212.79999700000002,213.000002,208.450005,210.11000299999998,115557400,27.221758'}\n",
      "['Date,Open,High,Low,Close,Volume,Adj Close', '2010-01-04,213.429998,214.499996,212.38000099999996,214.009998,123432400,27.727039', '2010-01-05,214.599998,215.589994,213.249994,214.379993,150476200,27.774976000000002', '2010-01-06,214.379993,215.23,210.750004,210.969995,138040000,27.333178000000004', '2010-01-07,211.75,212.000006,209.050005,210.58,119282800,27.28265', '2010-01-08,210.299994,212.000006,209.06000500000002,211.98000499999998,111902700,27.464034', '2010-01-11,212.79999700000002,213.000002,208.450005,210.11000299999998,115557400,27.221758']\n"
     ]
    },
    {
     "name": "stdout",
     "output_type": "stream",
     "text": [
      "Loaded 6 row(s) into ds_dummy:Table(TableReference(DatasetReference('case-study-airflow', 'ds_dummy'), 'stock_data'))\n",
      "Decoded data:\n",
      "{\"messages\": \"Date,Open,High,Low,Close,Volume,Adj Close\\n2010-01-04,213.429998,214.499996,212.38000099999996,214.009998,123432400,27.727039\\n2010-01-05,214.599998,215.589994,213.249994,214.379993,150476200,27.774976000000002\\n2010-01-06,214.379993,215.23,210.750004,210.969995,138040000,27.333178000000004\\n2010-01-07,211.75,212.000006,209.050005,210.58,119282800,27.28265\\n2010-01-08,210.299994,212.000006,209.06000500000002,211.98000499999998,111902700,27.464034\\n2010-01-11,212.79999700000002,213.000002,208.450005,210.11000299999998,115557400,27.221758\"}\n",
      "Json data\n",
      "{'messages': 'Date,Open,High,Low,Close,Volume,Adj Close\\n2010-01-04,213.429998,214.499996,212.38000099999996,214.009998,123432400,27.727039\\n2010-01-05,214.599998,215.589994,213.249994,214.379993,150476200,27.774976000000002\\n2010-01-06,214.379993,215.23,210.750004,210.969995,138040000,27.333178000000004\\n2010-01-07,211.75,212.000006,209.050005,210.58,119282800,27.28265\\n2010-01-08,210.299994,212.000006,209.06000500000002,211.98000499999998,111902700,27.464034\\n2010-01-11,212.79999700000002,213.000002,208.450005,210.11000299999998,115557400,27.221758'}\n",
      "['Date,Open,High,Low,Close,Volume,Adj Close', '2010-01-04,213.429998,214.499996,212.38000099999996,214.009998,123432400,27.727039', '2010-01-05,214.599998,215.589994,213.249994,214.379993,150476200,27.774976000000002', '2010-01-06,214.379993,215.23,210.750004,210.969995,138040000,27.333178000000004', '2010-01-07,211.75,212.000006,209.050005,210.58,119282800,27.28265', '2010-01-08,210.299994,212.000006,209.06000500000002,211.98000499999998,111902700,27.464034', '2010-01-11,212.79999700000002,213.000002,208.450005,210.11000299999998,115557400,27.221758']\n",
      "Loaded 6 row(s) into ds_dummy:Table(TableReference(DatasetReference('case-study-airflow', 'ds_dummy'), 'stock_data'))\n",
      "[{'High': 'High', 'Low': 'Low', 'Date': 'Date', 'Adj_close': 'Adj Close2010-01-04', 'Close': 'Close', 'Open': 'Open', 'Volume': 'Volume'}]\n",
      "Errors:\n",
      "{'errors': [{'reason': 'invalid', 'location': 'low', 'debugInfo': '', 'message': 'Cannot convert value to floating point (bad value):Low'}], 'index': 0}\n",
      "Decoded data:\n",
      "{\"messages\": \"Date,Open,High,Low,Close,Volume,Adj Close\\n2010-01-04,213.429998,214.499996,212.38000099999996,214.009998,123432400,27.727039\\n2010-01-05,214.599998,215.589994,213.249994,214.379993,150476200,27.774976000000002\\n2010-01-06,214.379993,215.23,210.750004,210.969995,138040000,27.333178000000004\\n2010-01-07,211.75,212.000006,209.050005,210.58,119282800,27.28265\\n2010-01-08,210.299994,212.000006,209.06000500000002,211.98000499999998,111902700,27.464034\\n2010-01-11,212.79999700000002,213.000002,208.450005,210.11000299999998,115557400,27.221758\"}\n",
      "Json data\n",
      "{'messages': 'Date,Open,High,Low,Close,Volume,Adj Close\\n2010-01-04,213.429998,214.499996,212.38000099999996,214.009998,123432400,27.727039\\n2010-01-05,214.599998,215.589994,213.249994,214.379993,150476200,27.774976000000002\\n2010-01-06,214.379993,215.23,210.750004,210.969995,138040000,27.333178000000004\\n2010-01-07,211.75,212.000006,209.050005,210.58,119282800,27.28265\\n2010-01-08,210.299994,212.000006,209.06000500000002,211.98000499999998,111902700,27.464034\\n2010-01-11,212.79999700000002,213.000002,208.450005,210.11000299999998,115557400,27.221758'}\n",
      "['Date,Open,High,Low,Close,Volume,Adj Close', '2010-01-04,213.429998,214.499996,212.38000099999996,214.009998,123432400,27.727039', '2010-01-05,214.599998,215.589994,213.249994,214.379993,150476200,27.774976000000002', '2010-01-06,214.379993,215.23,210.750004,210.969995,138040000,27.333178000000004', '2010-01-07,211.75,212.000006,209.050005,210.58,119282800,27.28265', '2010-01-08,210.299994,212.000006,209.06000500000002,211.98000499999998,111902700,27.464034', '2010-01-11,212.79999700000002,213.000002,208.450005,210.11000299999998,115557400,27.221758']\n",
      "Loaded 6 row(s) into ds_dummy:Table(TableReference(DatasetReference('case-study-airflow', 'ds_dummy'), 'stock_data'))\n"
     ]
    }
   ],
   "source": [
    "try:\n",
    "    sub.result(timeout=10)\n",
    "except Exception as e:\n",
    "    raise\n",
    "finally:\n",
    "    sub.close\n"
   ]
  },
  {
   "cell_type": "code",
   "execution_count": null,
   "metadata": {},
   "outputs": [],
   "source": [
    "a = \"this is data\".encode('utf-8')"
   ]
  },
  {
   "cell_type": "code",
   "execution_count": null,
   "metadata": {},
   "outputs": [],
   "source": [
    "x = ['2010-01-04', '213.429998', '214.499996', '212.38000099999996', '214.009998', '123432400', '27.727039']"
   ]
  },
  {
   "cell_type": "code",
   "execution_count": null,
   "metadata": {},
   "outputs": [],
   "source": []
  },
  {
   "cell_type": "code",
   "execution_count": null,
   "metadata": {},
   "outputs": [],
   "source": [
    "to_bq_table(dataset, table, data)"
   ]
  },
  {
   "cell_type": "code",
   "execution_count": 56,
   "metadata": {},
   "outputs": [],
   "source": [
    "files = ['ION_PROMO_20101225FW.DAT', 'ION_PROMO_20190808.DAT', 'ION_PROMO_20190903.DAT', 'ION_PROMO_20190904.DAT', 'ION_PROMO_20190905.DAT', 'ION_PROMO_20190906.DAT', 'ION_PROMO_20190907.DAT', 'ION_PROMO_20190908.DAT', 'ION_PROMO_20190909.DAT', 'ION_PROMO_20190910.DAT', 'ION_PROMO_20190911.DAT', 'ION_PROMO_20190912.DAT']"
   ]
  },
  {
   "cell_type": "code",
   "execution_count": 63,
   "metadata": {},
   "outputs": [],
   "source": [
    "def validate_file_name(file, feed):\n",
    "    if feed=='ION_PROMO':\n",
    "        date = file.replace('.gz','').replace('.DAT','').split('_')[-1]\n",
    "        return 'HF' not in file and 'FW' not in file and len(date)==8 and ''.join(date[-2:])!='00'\n",
    "    elif feed in ['PRICE', 'DAILY_SCAN']:\n",
    "        date = file.replace('.gz', '').replace('.DAT', '').split('_')[-2]\n",
    "        return 'HF' not in file and 'FW' not in file and len(date) == 8 and ''.join(date[-2:]) != '00'"
   ]
  },
  {
   "cell_type": "code",
   "execution_count": 64,
   "metadata": {},
   "outputs": [
    {
     "data": {
      "text/plain": [
       "False"
      ]
     },
     "execution_count": 64,
     "metadata": {},
     "output_type": "execute_result"
    }
   ],
   "source": [
    "validate_file_name('ION_PROMO_20101225FW.DAT', 'ION_PROMO')"
   ]
  },
  {
   "cell_type": "code",
   "execution_count": 65,
   "metadata": {},
   "outputs": [
    {
     "name": "stdout",
     "output_type": "stream",
     "text": [
      "[None, None]\n"
     ]
    }
   ],
   "source": [
    "print([file for file in map(validate_file_name, files, 'ION_PROMO')])"
   ]
  },
  {
   "cell_type": "code",
   "execution_count": 66,
   "metadata": {},
   "outputs": [],
   "source": [
    "files = [('ION_PROMO_20101225FW.DAT', 'ION_PROMO'), ('ION_PROMO_20190808.DAT','ION_PROMO')]"
   ]
  },
  {
   "cell_type": "code",
   "execution_count": 62,
   "metadata": {},
   "outputs": [
    {
     "ename": "TypeError",
     "evalue": "validate_file_name() missing 1 required positional argument: 'feed'",
     "output_type": "error",
     "traceback": [
      "\u001b[1;31m---------------------------------------------------------------------------\u001b[0m",
      "\u001b[1;31mTypeError\u001b[0m                                 Traceback (most recent call last)",
      "\u001b[1;32m<ipython-input-62-bd18044316cc>\u001b[0m in \u001b[0;36m<module>\u001b[1;34m()\u001b[0m\n\u001b[1;32m----> 1\u001b[1;33m \u001b[0mprint\u001b[0m\u001b[1;33m(\u001b[0m\u001b[1;33m[\u001b[0m\u001b[0mx\u001b[0m \u001b[1;32mfor\u001b[0m \u001b[0mx\u001b[0m \u001b[1;32min\u001b[0m \u001b[0mfilter\u001b[0m\u001b[1;33m(\u001b[0m\u001b[0mvalidate_file_name\u001b[0m\u001b[1;33m,\u001b[0m \u001b[0mfiles\u001b[0m\u001b[1;33m)\u001b[0m\u001b[1;33m]\u001b[0m\u001b[1;33m)\u001b[0m\u001b[1;33m\u001b[0m\u001b[0m\n\u001b[0m",
      "\u001b[1;32m<ipython-input-62-bd18044316cc>\u001b[0m in \u001b[0;36m<listcomp>\u001b[1;34m(.0)\u001b[0m\n\u001b[1;32m----> 1\u001b[1;33m \u001b[0mprint\u001b[0m\u001b[1;33m(\u001b[0m\u001b[1;33m[\u001b[0m\u001b[0mx\u001b[0m \u001b[1;32mfor\u001b[0m \u001b[0mx\u001b[0m \u001b[1;32min\u001b[0m \u001b[0mfilter\u001b[0m\u001b[1;33m(\u001b[0m\u001b[0mvalidate_file_name\u001b[0m\u001b[1;33m,\u001b[0m \u001b[0mfiles\u001b[0m\u001b[1;33m)\u001b[0m\u001b[1;33m]\u001b[0m\u001b[1;33m)\u001b[0m\u001b[1;33m\u001b[0m\u001b[0m\n\u001b[0m",
      "\u001b[1;31mTypeError\u001b[0m: validate_file_name() missing 1 required positional argument: 'feed'"
     ]
    }
   ],
   "source": [
    "print([x for x in filter(validate_file_name, files)])"
   ]
  },
  {
   "cell_type": "code",
   "execution_count": 67,
   "metadata": {},
   "outputs": [],
   "source": [
    "p = [x for x in filter(lambda x:validate_file_name(x[0], x[1]), files)]"
   ]
  },
  {
   "cell_type": "code",
   "execution_count": 68,
   "metadata": {},
   "outputs": [
    {
     "data": {
      "text/plain": [
       "['ION_PROMO_20190808.DAT']"
      ]
     },
     "execution_count": 68,
     "metadata": {},
     "output_type": "execute_result"
    }
   ],
   "source": [
    "[x[0] for x in p]"
   ]
  },
  {
   "cell_type": "code",
   "execution_count": 57,
   "metadata": {},
   "outputs": [
    {
     "data": {
      "text/plain": [
       "[('ION_PROMO_20101225FW.DAT', 'ION_PROMO'),\n",
       " ('ION_PROMO_20190808.DAT', 'ION_PROMO'),\n",
       " ('ION_PROMO_20190903.DAT', 'ION_PROMO'),\n",
       " ('ION_PROMO_20190904.DAT', 'ION_PROMO'),\n",
       " ('ION_PROMO_20190905.DAT', 'ION_PROMO'),\n",
       " ('ION_PROMO_20190906.DAT', 'ION_PROMO'),\n",
       " ('ION_PROMO_20190907.DAT', 'ION_PROMO'),\n",
       " ('ION_PROMO_20190908.DAT', 'ION_PROMO'),\n",
       " ('ION_PROMO_20190909.DAT', 'ION_PROMO'),\n",
       " ('ION_PROMO_20190910.DAT', 'ION_PROMO'),\n",
       " ('ION_PROMO_20190911.DAT', 'ION_PROMO'),\n",
       " ('ION_PROMO_20190912.DAT', 'ION_PROMO')]"
      ]
     },
     "execution_count": 57,
     "metadata": {},
     "output_type": "execute_result"
    }
   ],
   "source": [
    "[(file, 'ION_PROMO') for file in files]"
   ]
  },
  {
   "cell_type": "code",
   "execution_count": null,
   "metadata": {},
   "outputs": [],
   "source": []
  }
 ],
 "metadata": {
  "kernelspec": {
   "display_name": "Python [default]",
   "language": "python",
   "name": "python3"
  },
  "language_info": {
   "codemirror_mode": {
    "name": "ipython",
    "version": 3
   },
   "file_extension": ".py",
   "mimetype": "text/x-python",
   "name": "python",
   "nbconvert_exporter": "python",
   "pygments_lexer": "ipython3",
   "version": "3.5.4"
  }
 },
 "nbformat": 4,
 "nbformat_minor": 2
}
