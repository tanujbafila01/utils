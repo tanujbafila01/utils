{
 "cells": [
  {
   "cell_type": "markdown",
   "metadata": {},
   "source": [
    "\n",
    "![alt text](https://s3.amazonaws.com/thinkific/file_uploads/118220/images/c2a/fc6/0dd/1549262579305.jpg \"Title\")"
   ]
  },
  {
   "cell_type": "markdown",
   "metadata": {},
   "source": [
    "### Big Mart Sales Prediction Using R(converted to python in this notebook)\n",
    "\n",
    "Welcome to the course on “Big Mart Sales Prediction using R”. This is an extensive course on the Big Mart Sales challenge, a regression practice problem wherein we have to predict product-wise and store-wise sales.\n",
    "\n",
    "Sales prediction is a very common real-life problem that each company faces atleast once in its lifetime. If done correctly, it can have a significant impact on the success and performance of that company. According to a study, companies with accurate sales predictions are 10% more likely to grow their revenue year-over-year and 7.3% more likely to hit quota.\n",
    "\n",
    "Although this course is specifically built to give you a walkthrough of Big Mart Sales problem, you can always refer the content to get a comprehensive overview of solving a regression problem.\n",
    "\n",
    "Before you start with the course, let me give you a brief overview of the course, along with its and expectations.\n",
    "\n",
    "Objective of the Course\n",
    "The course is designed for the people who want to solve problems related to Sales Prediction. It will equip you with skills and techniques required to solve regression problems in R. You will be provided with sufficient theory and practice material to hone your predictive modeling skills.\n",
    "\n",
    "Expectations from the Course\n",
    "The course is divided into below modules:\n",
    "\n",
    "Exploratory Data Analysis\n",
    "Data Preparation\n",
    "Predictive Modeling using different techniques.\n",
    "These sections are supplemented with theory, Coding examples Exercises. Additionally, you will be provided with below resources:\n",
    "\n",
    "Datasets - The actual data to work on\n",
    "R code file - Containing code for the practical part of the course\n",
    "Discussion Forum Support - Forums will be monitored by the course instructors for any queries\n",
    "How to best use this course?\n",
    "You should follow the below steps to extract maximum benefit out of this course:\n",
    "\n",
    "Study the concepts and give it time to sink in.\n",
    "Go through the practical content, download the relevant dataset, and implement the solution on your own.\n",
    "In case you need advice on something or you get stuck - use the discussion forum to ask the questions. In case of questions outside the scope of this course, please feel free to ask questions on the discussion portal of AnalyticsVidhya.\n",
    "R Version: R v3.4.0 has been used for this course.\n",
    "\n",
    "\n"
   ]
  },
  {
   "cell_type": "markdown",
   "metadata": {},
   "source": [
    "We will handle this problem in a structured way. We will be following the table of content given below.\n",
    "\n",
    "1. Problem Statement\n",
    "2. Hypothesis Generation\n",
    "3. Loading Packages and Data\n",
    "4. Data Structure and Content\n",
    "5. Exploratory Data Analysis\n",
    "    1. Univariate Analysis\n",
    "    2. Bivariate Analysis\n",
    "6. Missing Value Treatment\n",
    "7. Feature Engineering\n",
    "8. Encoding Categorical Variables\n",
    "    1. Label Encoding\n",
    "    2. One Hot Encoding\n",
    "9. PreProcessing Data\n",
    "10. Modeling\n",
    "    1. Linear Regression\n",
    "    2. Regularized Linear Regression\n",
    "    3. RandomForest\n",
    "    4. XGBoost\n",
    "11. Summary"
   ]
  },
  {
   "cell_type": "markdown",
   "metadata": {},
   "source": [
    "### Problem Statement\n",
    "Understanding the problem statement is the first and foremost step. This would help you give an intuition of what you will face ahead of time. Let us see the problem statement -\n",
    "\n",
    "**The data scientists at BigMart have collected sales data for 1559 products across 10 stores in different cities for the year 2013. Now each product has certain attributes that sets it apart from other products. Same is the case with each store.**\n",
    "\n",
    "**The aim is to build a predictive model to find out the sales of each product at a particular store so that it would help the decision makers at BigMart to find out the properties of any product or store, which play a key role in increasing the overall sales.**\n",
    "\n",
    "\n",
    "\n",
    "You can read the problem statement and download the datasets from this [page](https://datahack.analyticsvidhya.com/contest/practice-problem-big-mart-sales-iii/).\n",
    "\n",
    "### Data\n",
    "We have train (8523) and test (5681) data set, train data set has both input and output variable(s). You need to predict the sales for test data set.\n",
    "\n",
    " \n",
    "|Variable|Description|\n",
    "|:---:|:---:|\n",
    "|Item_Identifier|Unique product ID|\n",
    "|Item_Weight|Weight of product|\n",
    "|Item_Fat_Content|Whether the product is low fat or not|\n",
    "|Item_Visibility|The % of total display area of all products in a store allocated to the particular product|\n",
    "|Item_Type|The category to which the product belongs|\n",
    "|Item_MRP|Maximum Retail Price (list price) of the product|\n",
    "|Outlet_Identifier|Unique store ID|\n",
    "|Outlet_Establishment_Year|The year in which store was established|\n",
    "|Outlet_Size|The size of the store in terms of ground area covered|\n",
    "|Outlet_Location_Type|The type of city in which the store is located|\n",
    "|Outlet_Type|Whether the outlet is just a grocery store or some sort of supermarket|\n",
    "|Item_Outlet_Sales|Sales of the product in the particulat store. This is the outcome variable to be predicted.|\n",
    "\n",
    " \n",
    "\n",
    " \n",
    "\n",
    "### Evaluation Metric:\n",
    "\n",
    "Your model performance will be evaluated on the basis of your prediction of the sales for the test data (test.csv), which contains similar data-points as train except for the sales to be predicted. Your submission needs to be in the format as shown in \"SampleSubmission.csv\".\n",
    "\n",
    "We at our end, have the actual sales for the test dataset, against which your predictions will be evaluated. We will use the Root Mean Square Error value to judge your response.\n",
    "\n",
    "Also, note that the test data is further divided into Public (25%) and Private (75%) data. Your initial responses will be checked and scored on the Public data. But, the final rankings will be based on score on Private data set. Since this is a practice problem, we will keep declare winners after specific time intervals and refresh the competition.\n"
   ]
  },
  {
   "cell_type": "markdown",
   "metadata": {},
   "source": [
    "### Hypothesis generation:\n",
    "This is a very important stage in any machine learning process. It involves understanding the problem in detail by brainstorming as many factors as possible which can impact the outcome. It is done by understanding the problem statement thoroughly and before looking at the data.\n",
    "### How to do hypothesis generation?\n",
    "One very effective technique to generate hypotheses is by creating mindmaps. You can draw it even using a pen and paper. The general methodology is as follows: Write the main idea in the center. Draw branches from the center such they are connected with one another with final outputs shown towards the end.<br>\n",
    "Below is a simple mind map. Let’s understand it.\n",
    "![alt text](https://s3.amazonaws.com/thinkific/file_uploads/118220/images/67f/098/8b1/1549262789601.jpg \"Title\")"
   ]
  },
  {
   "cell_type": "markdown",
   "metadata": {},
   "source": [
    "We can start the process by working on four levels: Store Level, Product Level, Customer Level and Macro Level.\n",
    "### Store Level Hypotheses:\n",
    "**City type:** Stores located in urban or Tier 1 cities should have higher sales because of the higher income levels of people there.<br>\n",
    "**Population Density:** Stores located in densely populated areas should have higher sales because of more demand.<br> \n",
    "**Store Capacity:** Stores which are very big in size should have higher sales as they act like one-stop-shops and people would prefer getting everything from one place.<br>\n",
    "**Competitors:** Stores having similar establishments nearby should have less sales because of more competition.<br>\n",
    "**Marketing:** Stores which have a good marketing division should have higher sales as it will be able to attract customers through the right offers and advertising.<br>\n",
    "**Location:** Stores located within popular marketplaces should have higher sales because of better access to customers.<br>\n",
    "**Ambiance:** Stores which are well-maintained and managed by polite and humble people are expected to have higher footfall and thus higher sales."
   ]
  },
  {
   "cell_type": "markdown",
   "metadata": {},
   "source": [
    "### Product Level Hypotheses\n",
    "**Brand:** Branded products should have higher sales because of higher trust in the customer.<br>\n",
    "**Packaging:** Products with good packaging can attract customers and sell more.<br>\n",
    "**Utility:** Daily use products should have a higher tendency to sell as compared to the specific use products.<br>\n",
    "**Display Area:** Products which are given bigger shelves in the store are likely to catch attention first and sell more.<br> \n",
    "**Visibility in Store:** The location of product in a store will impact sales. Ones which are right at entrance will catch the eye of customer first rather than the ones in back.<br>\n",
    "**Advertising:** Better advertising of products in the store will should higher sales in most cases. Promotional Offers: Products accompanied with attractive offers and discounts will sell more.<br>"
   ]
  },
  {
   "cell_type": "markdown",
   "metadata": {},
   "source": [
    "### Customer Level Hypotheses\n",
    "**Customer Behavior:** Stores keeping the right set of products to meet the local needs of customers will have higher sales.<br>\n",
    "**Job Profile:** Customer working at executive levels would have higher chances of purchasing high amount products as compared to customers working at entry or mid senior level.<br>\n",
    "**Family Size:** More the number of family members, more amount will be spent by a customer to buy products.<br>\n",
    "**Annual Income:** Higher the annual income of a customer, customer is more likely to buy high cost products.<br> \n",
    "**Past Purchase History:** Availablity of this information can help us to determine the frequency of a product being purchased by a user."
   ]
  },
  {
   "cell_type": "markdown",
   "metadata": {},
   "source": [
    "### Macro Level Hypotheses\n",
    "**Environment:** If the environment is declared safe by government, customer would be more likely to purchase products without worrying if it’s environment friendly or not.<br>\n",
    "**Economic Growth:** If the current economy shows a consistent growth, per capita income will rise, therefore buying power of customers will increase.<br><br>\n",
    "This is not an exhaustive list. You can come up with more hypotheses of your own, the more the better. Let’s begin exploring the dataset and try to find interesting patterns."
   ]
  },
  {
   "cell_type": "markdown",
   "metadata": {},
   "source": [
    "### Loading Packages"
   ]
  },
  {
   "cell_type": "code",
   "execution_count": 75,
   "metadata": {},
   "outputs": [],
   "source": [
    "import pandas as pd\n",
    "import numpy as np\n",
    "import matplotlib.pyplot as plt\n",
    "plt.style.use('ggplot')"
   ]
  },
  {
   "cell_type": "markdown",
   "metadata": {},
   "source": [
    "### Reading Data"
   ]
  },
  {
   "cell_type": "markdown",
   "metadata": {},
   "source": [
    "At the competition’s page, we are provided with 3 CSV files — Train, Test, and Sample Submissions.<br>\n",
    "1. The Train file contains 11 independent variables and 1 target variable, i.e., Item_Outlet_Sales.\n",
    "2. The Test file also contains the same set of independent variables, but there is no target variable because that is what we have to predict.\n",
    "3. The Sample Submissions file contains the format in which we have to submit our predictions.<br><br>\n",
    "We will use pandas.read_csv() function of data.table package to read the datasets."
   ]
  },
  {
   "cell_type": "code",
   "execution_count": 4,
   "metadata": {},
   "outputs": [],
   "source": [
    "train = pd.read_csv(\"./data/bigmart/Train.txt\")\n",
    "test = pd.read_csv(\"./data/bigmart/Test.txt\")\n",
    "sample_submission = pd.read_csv(\"./data/bigmart/SampleSubmission.txt\")"
   ]
  },
  {
   "cell_type": "markdown",
   "metadata": {},
   "source": [
    "### Understanding the data\n",
    "Initially we should understand our raw data thoroughly, i.e., we should explore the no. of features/columns and rows, datatype of the features, feature names and so on. It helps in working with the data in the next stages.\n",
    "\n",
    "#### Dimensions of Data\n",
    "Let’s quicky check the dimensions of our data, i.e., columns and rows.\n"
   ]
  },
  {
   "cell_type": "code",
   "execution_count": 5,
   "metadata": {},
   "outputs": [
    {
     "data": {
      "text/plain": [
       "((8523, 12), (5681, 11))"
      ]
     },
     "execution_count": 5,
     "metadata": {},
     "output_type": "execute_result"
    }
   ],
   "source": [
    "train.shape,test.shape"
   ]
  },
  {
   "cell_type": "markdown",
   "metadata": {},
   "source": [
    "train dataset has 8523 rows and 12 features and test has 5681 rows and 11 columns. train has 1 extra column which is the target variable. We will predict this target variable for the test dataset later in this tutorial.\n",
    "#### Features of Data\n",
    "We will take a quick glance over the feature names of train and test datasets."
   ]
  },
  {
   "cell_type": "code",
   "execution_count": 6,
   "metadata": {},
   "outputs": [
    {
     "data": {
      "text/plain": [
       "['Item_Identifier',\n",
       " 'Item_Weight',\n",
       " 'Item_Fat_Content',\n",
       " 'Item_Visibility',\n",
       " 'Item_Type',\n",
       " 'Item_MRP',\n",
       " 'Outlet_Identifier',\n",
       " 'Outlet_Establishment_Year',\n",
       " 'Outlet_Size',\n",
       " 'Outlet_Location_Type',\n",
       " 'Outlet_Type',\n",
       " 'Item_Outlet_Sales']"
      ]
     },
     "execution_count": 6,
     "metadata": {},
     "output_type": "execute_result"
    }
   ],
   "source": [
    "list(train.columns)"
   ]
  },
  {
   "cell_type": "code",
   "execution_count": 7,
   "metadata": {},
   "outputs": [
    {
     "data": {
      "text/plain": [
       "['Item_Identifier',\n",
       " 'Item_Weight',\n",
       " 'Item_Fat_Content',\n",
       " 'Item_Visibility',\n",
       " 'Item_Type',\n",
       " 'Item_MRP',\n",
       " 'Outlet_Identifier',\n",
       " 'Outlet_Establishment_Year',\n",
       " 'Outlet_Size',\n",
       " 'Outlet_Location_Type',\n",
       " 'Outlet_Type']"
      ]
     },
     "execution_count": 7,
     "metadata": {},
     "output_type": "execute_result"
    }
   ],
   "source": [
    "list(test.columns)"
   ]
  },
  {
   "cell_type": "markdown",
   "metadata": {},
   "source": [
    "Item_Outlet_Sales is present in train but not in test dataset because this is the target variable that we have to predict.\n",
    "### Univariate Analysis\n",
    "#### Why do we need Exploratory Data Analysis (EDA)?\n",
    "After understanding the dimensions and properties of data, we have to deep dive and explore the data visually. It helps us in understanding the nature of data in terms of distribution of the individual variables/features, finding missing values, relationship with other variables and many other things.<br>\n",
    "\n",
    "Let’s start with univariate EDA. It involves exploring variables individually. We will try to visualize the continuous variables using histograms and categorical variables using bar plots.<br>\n",
    "\n",
    "Note: ggplot2 package has been used to generate all the plots.\n",
    "#### Target Variable\n",
    "Since our target variable is continuous, we can visualise it by plotting its histogram"
   ]
  },
  {
   "cell_type": "code",
   "execution_count": 9,
   "metadata": {},
   "outputs": [
    {
     "data": {
      "image/png": "[encoded data removed]",
      "text/plain": [
       "<matplotlib.figure.Figure at 0x1bf333e14e0>"
      ]
     },
     "metadata": {},
     "output_type": "display_data"
    }
   ],
   "source": [
    "plt.figure(figsize=(20,10))\n",
    "plt.xlabel('item_outlet_sales')\n",
    "plot = plt.hist(train['Item_Outlet_Sales'], bins=100, color='g', label='Item_Outlet_Sales')\n",
    "# if we don't assign it to a variable, it prints the column as numpy array"
   ]
  },
  {
   "cell_type": "markdown",
   "metadata": {},
   "source": [
    "It is a right skewd variable and would need some data transformation to treat its skewness.\n",
    "#### Independent Variables (numeric variables)\n",
    "Now let’s check the numeric independent variables. We’ll again use the histograms for visualizations because that will help us in visualizing the distribution of the variables."
   ]
  },
  {
   "cell_type": "code",
   "execution_count": 76,
   "metadata": {},
   "outputs": [
    {
     "name": "stderr",
     "output_type": "stream",
     "text": [
      "C:\\Program Files\\Anadonda\\lib\\site-packages\\matplotlib\\figure.py:418: UserWarning: matplotlib is currently using a non-GUI backend, so cannot show the figure\n",
      "  \"matplotlib is currently using a non-GUI backend, \"\n"
     ]
    },
    {
     "data": {
      "image/png": "[encoded data removed]",
      "text/plain": [
       "<matplotlib.figure.Figure at 0x1bf468689e8>"
      ]
     },
     "metadata": {},
     "output_type": "display_data"
    }
   ],
   "source": [
    "figure = plt.figure(figsize=(20,10))\n",
    "\n",
    "graph1 = plt.subplot(311)\n",
    "plt.xlabel('item_weight')\n",
    "plt.ylabel('count')\n",
    "freq1 = train['Item_Weight'].value_counts()      #TODO: plot histogram without NaN values\n",
    "bins1 = freq.index\n",
    "x1=graph1.bar(bins1.map(int), freq1)\n",
    "\n",
    "graph2 = plt.subplot(312)\n",
    "plt.xlabel('item_visibility')\n",
    "plt.ylabel('count')\n",
    "x2 = graph2.hist(train['Item_Visibility'], bins=200)\n",
    "\n",
    "graph3 = plt.subplot(313)\n",
    "plt.xlabel('item_mrp')\n",
    "plt.ylabel('count')\n",
    "x3 = graph3.hist(train['Item_MRP'], bins=200)\n",
    "\n",
    "figure.show()"
   ]
  },
  {
   "cell_type": "markdown",
   "metadata": {},
   "source": [
    "#### Observations:\n",
    "1. There seems to be no claer patern in item_weight.\n",
    "2. item_visibility is right skewed.\n",
    "3. we can see 4 different distributions for item_mrp.\n",
    "\n",
    "### Independent Variables(categorical variables):\n",
    "A categorical variable or feature can have only a finite set of values.\n",
    "#### Item_Fat_Content:"
   ]
  },
  {
   "cell_type": "code",
   "execution_count": 78,
   "metadata": {},
   "outputs": [
    {
     "data": {
      "text/plain": [
       "Low Fat    5089\n",
       "Regular    2889\n",
       "LF          316\n",
       "reg         117\n",
       "low fat     112\n",
       "Name: Item_Fat_Content, dtype: int64"
      ]
     },
     "execution_count": 78,
     "metadata": {},
     "output_type": "execute_result"
    }
   ],
   "source": [
    "train['Item_Fat_Content'].value_counts()\n",
    "# no graph required for this"
   ]
  },
  {
   "cell_type": "markdown",
   "metadata": {},
   "source": [
    "Low Fat and LF are same category, Regular and reg are same category.<br>\n",
    "Replace LF with Low Fat and reg with Regular"
   ]
  },
  {
   "cell_type": "code",
   "execution_count": 83,
   "metadata": {},
   "outputs": [],
   "source": [
    "train['Item_Fat_Content']=train['Item_Fat_Content'].apply(lambda x: x.replace('LF', 'Low Fat'))\n",
    "train['Item_Fat_Content']=train['Item_Fat_Content'].apply(lambda x: x.replace('low fat', 'Regular'))\n",
    "train['Item_Fat_Content']=train['Item_Fat_Content'].apply(lambda x: x.replace('reg', 'Regular'))"
   ]
  },
  {
   "cell_type": "code",
   "execution_count": 84,
   "metadata": {},
   "outputs": [
    {
     "data": {
      "text/plain": [
       "Low Fat    5405\n",
       "Regular    3118\n",
       "Name: Item_Fat_Content, dtype: int64"
      ]
     },
     "execution_count": 84,
     "metadata": {},
     "output_type": "execute_result"
    }
   ],
   "source": [
    "train['Item_Fat_Content'].value_counts()"
   ]
  },
  {
   "cell_type": "code",
   "execution_count": 93,
   "metadata": {},
   "outputs": [
    {
     "data": {
      "image/png": "[encoded data removed]",
      "text/plain": [
       "<matplotlib.figure.Figure at 0x1bf40170fd0>"
      ]
     },
     "metadata": {},
     "output_type": "display_data"
    }
   ],
   "source": [
    "plt.figure(figsize=(5,3))\n",
    "plt.xlabel('item_fat_content')\n",
    "plot = plt.hist(train['Item_Fat_Content'], color='g', label='item_fat_content')"
   ]
  },
  {
   "cell_type": "code",
   "execution_count": null,
   "metadata": {},
   "outputs": [],
   "source": []
  }
 ],
 "metadata": {
  "kernelspec": {
   "display_name": "Python [conda env:Anadonda]",
   "language": "python",
   "name": "conda-env-Anadonda-py"
  },
  "language_info": {
   "codemirror_mode": {
    "name": "ipython",
    "version": 3
   },
   "file_extension": ".py",
   "mimetype": "text/x-python",
   "name": "python",
   "nbconvert_exporter": "python",
   "pygments_lexer": "ipython3",
   "version": "3.6.4"
  }
 },
 "nbformat": 4,
 "nbformat_minor": 2
}
